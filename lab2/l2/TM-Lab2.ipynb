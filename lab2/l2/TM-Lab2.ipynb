{
  "cells": [
    {
      "cell_type": "markdown",
      "metadata": {
        "id": "view-in-github",
        "colab_type": "text"
      },
      "source": [
        "<a href=\"https://colab.research.google.com/github/willewiik/Text-Mining/blob/main/lab2/l2/TM-Lab2.ipynb\" target=\"_parent\"><img src=\"https://colab.research.google.com/assets/colab-badge.svg\" alt=\"Open In Colab\"/></a>"
      ]
    },
    {
      "cell_type": "markdown",
      "metadata": {
        "id": "AK-BENJH03P3"
      },
      "source": [
        "<div class=\"alert alert-info\">\n",
        "    \n",
        "➡️ Before you start, make sure that you are familiar with the **[study guide](https://liu-nlp.ai/text-mining/logistics/)**, in particular the rules around **cheating and plagiarism** (found in the course memo).\n",
        "\n",
        "➡️ If you use code from external sources (e.g. StackOverflow, ChatGPT, ...) as part of your solutions, don't forget to add a reference to these source(s) (for example as a comment above your code).\n",
        "\n",
        "➡️ Make sure you fill in all cells that say **`YOUR CODE HERE`** or **YOUR ANSWER HERE**.  You normally shouldn't need to modify any of the other cells.\n",
        "\n",
        "</div>"
      ]
    },
    {
      "cell_type": "markdown",
      "metadata": {
        "editable": true,
        "tags": [],
        "id": "t_mUbTcX03P4"
      },
      "source": [
        "# L2: Text Classification"
      ]
    },
    {
      "cell_type": "markdown",
      "metadata": {
        "id": "bI2fbyZu03P4"
      },
      "source": [
        "Text classification is the task of sorting text documents into predefined classes. The concrete problem you will be working on in this lab is the classification of speeches with respect to their political affiliation. The specific texts you are going to classify are speeches held in the [Riksdag](https://www.riksdagen.se/en/), the Swedish national legislature."
      ]
    },
    {
      "cell_type": "code",
      "execution_count": 1,
      "metadata": {
        "editable": true,
        "tags": [],
        "id": "krgAI6NZ03P4"
      },
      "outputs": [],
      "source": [
        "%matplotlib inline"
      ]
    },
    {
      "cell_type": "code",
      "source": [
        "!git clone https://github.com/willewiik/Text-Mining.git\n",
        "%cd \"Text-Mining/lab2/l2\""
      ],
      "metadata": {
        "id": "DQwRDlfK1PlL",
        "outputId": "7a740a7d-73a2-4967-d365-17a627672ab1",
        "colab": {
          "base_uri": "https://localhost:8080/"
        }
      },
      "execution_count": 2,
      "outputs": [
        {
          "output_type": "stream",
          "name": "stdout",
          "text": [
            "Cloning into 'Text-Mining'...\n",
            "remote: Enumerating objects: 73, done.\u001b[K\n",
            "remote: Counting objects: 100% (73/73), done.\u001b[K\n",
            "remote: Compressing objects: 100% (66/66), done.\u001b[K\n",
            "remote: Total 73 (delta 15), reused 0 (delta 0), pack-reused 0 (from 0)\u001b[K\n",
            "Receiving objects: 100% (73/73), 16.74 MiB | 11.38 MiB/s, done.\n",
            "Resolving deltas: 100% (15/15), done.\n",
            "/content/Text-Mining/lab2/l2\n"
          ]
        }
      ]
    },
    {
      "cell_type": "markdown",
      "metadata": {
        "id": "D7D1onbC03P4"
      },
      "source": [
        "## Dataset"
      ]
    },
    {
      "cell_type": "markdown",
      "metadata": {
        "id": "597QP0Jo03P4"
      },
      "source": [
        "The raw data for this lab comes from [The Riksdag’s Open Data](https://data.riksdagen.se/in-english/). We have preprocessed and tokenized the speeches and put them into two compressed [JSON](https://en.wikipedia.org/wiki/JSON) files:\n",
        "\n",
        "* `speeches-201718.json.bz2` (speeches from the 2017/2018 parliamentary session)\n",
        "* `speeches-201819.json.bz2` (ditto, from the 2018/2019 session)\n",
        "\n",
        "We start by loading these files into two separate data frames."
      ]
    },
    {
      "cell_type": "code",
      "execution_count": 3,
      "metadata": {
        "deletable": false,
        "editable": false,
        "nbgrader": {
          "cell_type": "code",
          "checksum": "cbd62577bd7843909416d134d72e1194",
          "grade": false,
          "grade_id": "cell-381ec95ffbde9678",
          "locked": true,
          "schema_version": 3,
          "solution": false,
          "task": false
        },
        "tags": [],
        "id": "tOECFoYG03P4"
      },
      "outputs": [],
      "source": [
        "import pandas as pd\n",
        "import bz2\n",
        "\n",
        "with bz2.open('speeches-201718.json.bz2', mode='rt', encoding='utf-8') as source:\n",
        "    speeches_201718 = pd.read_json(source, encoding='utf-8')\n",
        "\n",
        "with bz2.open('speeches-201819.json.bz2', mode='rt', encoding='utf-8') as source:\n",
        "    speeches_201819 = pd.read_json(source, encoding='utf-8')"
      ]
    },
    {
      "cell_type": "markdown",
      "metadata": {
        "id": "r_Gp5BiM03P5"
      },
      "source": [
        "When you inspect the two data frames, you can see that there are three labelled columns: `id` (the official speech ID), `words` (the space-separated words of the speech), and `party` (the party of the speaker, represented by its customary abbreviation)."
      ]
    },
    {
      "cell_type": "code",
      "execution_count": 4,
      "metadata": {
        "id": "45ujXcB803P5",
        "outputId": "5c77dafe-cfde-4cad-e0f7-7c4c1a980487",
        "colab": {
          "base_uri": "https://localhost:8080/",
          "height": 206
        }
      },
      "outputs": [
        {
          "output_type": "execute_result",
          "data": {
            "text/plain": [
              "           id                                              words party\n",
              "0  H5-002-004  eders majestäter eders kungliga högheter herr ...     S\n",
              "1  H5-003-001  aktuell debatt om situationen för ensamkommand...     V\n",
              "2  H5-003-002  herr talman och ledamöter jag vill börja med a...     S\n",
              "3  H5-003-003  herr talman åhörare den här debatten handlar a...     M\n",
              "4  H5-003-004  herr talman ansvar och rättssäkerhet är två or...    SD"
            ],
            "text/html": [
              "\n",
              "  <div id=\"df-34ba724d-fcbd-46c7-af8b-920489418001\" class=\"colab-df-container\">\n",
              "    <div>\n",
              "<style scoped>\n",
              "    .dataframe tbody tr th:only-of-type {\n",
              "        vertical-align: middle;\n",
              "    }\n",
              "\n",
              "    .dataframe tbody tr th {\n",
              "        vertical-align: top;\n",
              "    }\n",
              "\n",
              "    .dataframe thead th {\n",
              "        text-align: right;\n",
              "    }\n",
              "</style>\n",
              "<table border=\"1\" class=\"dataframe\">\n",
              "  <thead>\n",
              "    <tr style=\"text-align: right;\">\n",
              "      <th></th>\n",
              "      <th>id</th>\n",
              "      <th>words</th>\n",
              "      <th>party</th>\n",
              "    </tr>\n",
              "  </thead>\n",
              "  <tbody>\n",
              "    <tr>\n",
              "      <th>0</th>\n",
              "      <td>H5-002-004</td>\n",
              "      <td>eders majestäter eders kungliga högheter herr ...</td>\n",
              "      <td>S</td>\n",
              "    </tr>\n",
              "    <tr>\n",
              "      <th>1</th>\n",
              "      <td>H5-003-001</td>\n",
              "      <td>aktuell debatt om situationen för ensamkommand...</td>\n",
              "      <td>V</td>\n",
              "    </tr>\n",
              "    <tr>\n",
              "      <th>2</th>\n",
              "      <td>H5-003-002</td>\n",
              "      <td>herr talman och ledamöter jag vill börja med a...</td>\n",
              "      <td>S</td>\n",
              "    </tr>\n",
              "    <tr>\n",
              "      <th>3</th>\n",
              "      <td>H5-003-003</td>\n",
              "      <td>herr talman åhörare den här debatten handlar a...</td>\n",
              "      <td>M</td>\n",
              "    </tr>\n",
              "    <tr>\n",
              "      <th>4</th>\n",
              "      <td>H5-003-004</td>\n",
              "      <td>herr talman ansvar och rättssäkerhet är två or...</td>\n",
              "      <td>SD</td>\n",
              "    </tr>\n",
              "  </tbody>\n",
              "</table>\n",
              "</div>\n",
              "    <div class=\"colab-df-buttons\">\n",
              "\n",
              "  <div class=\"colab-df-container\">\n",
              "    <button class=\"colab-df-convert\" onclick=\"convertToInteractive('df-34ba724d-fcbd-46c7-af8b-920489418001')\"\n",
              "            title=\"Convert this dataframe to an interactive table.\"\n",
              "            style=\"display:none;\">\n",
              "\n",
              "  <svg xmlns=\"http://www.w3.org/2000/svg\" height=\"24px\" viewBox=\"0 -960 960 960\">\n",
              "    <path d=\"M120-120v-720h720v720H120Zm60-500h600v-160H180v160Zm220 220h160v-160H400v160Zm0 220h160v-160H400v160ZM180-400h160v-160H180v160Zm440 0h160v-160H620v160ZM180-180h160v-160H180v160Zm440 0h160v-160H620v160Z\"/>\n",
              "  </svg>\n",
              "    </button>\n",
              "\n",
              "  <style>\n",
              "    .colab-df-container {\n",
              "      display:flex;\n",
              "      gap: 12px;\n",
              "    }\n",
              "\n",
              "    .colab-df-convert {\n",
              "      background-color: #E8F0FE;\n",
              "      border: none;\n",
              "      border-radius: 50%;\n",
              "      cursor: pointer;\n",
              "      display: none;\n",
              "      fill: #1967D2;\n",
              "      height: 32px;\n",
              "      padding: 0 0 0 0;\n",
              "      width: 32px;\n",
              "    }\n",
              "\n",
              "    .colab-df-convert:hover {\n",
              "      background-color: #E2EBFA;\n",
              "      box-shadow: 0px 1px 2px rgba(60, 64, 67, 0.3), 0px 1px 3px 1px rgba(60, 64, 67, 0.15);\n",
              "      fill: #174EA6;\n",
              "    }\n",
              "\n",
              "    .colab-df-buttons div {\n",
              "      margin-bottom: 4px;\n",
              "    }\n",
              "\n",
              "    [theme=dark] .colab-df-convert {\n",
              "      background-color: #3B4455;\n",
              "      fill: #D2E3FC;\n",
              "    }\n",
              "\n",
              "    [theme=dark] .colab-df-convert:hover {\n",
              "      background-color: #434B5C;\n",
              "      box-shadow: 0px 1px 3px 1px rgba(0, 0, 0, 0.15);\n",
              "      filter: drop-shadow(0px 1px 2px rgba(0, 0, 0, 0.3));\n",
              "      fill: #FFFFFF;\n",
              "    }\n",
              "  </style>\n",
              "\n",
              "    <script>\n",
              "      const buttonEl =\n",
              "        document.querySelector('#df-34ba724d-fcbd-46c7-af8b-920489418001 button.colab-df-convert');\n",
              "      buttonEl.style.display =\n",
              "        google.colab.kernel.accessAllowed ? 'block' : 'none';\n",
              "\n",
              "      async function convertToInteractive(key) {\n",
              "        const element = document.querySelector('#df-34ba724d-fcbd-46c7-af8b-920489418001');\n",
              "        const dataTable =\n",
              "          await google.colab.kernel.invokeFunction('convertToInteractive',\n",
              "                                                    [key], {});\n",
              "        if (!dataTable) return;\n",
              "\n",
              "        const docLinkHtml = 'Like what you see? Visit the ' +\n",
              "          '<a target=\"_blank\" href=https://colab.research.google.com/notebooks/data_table.ipynb>data table notebook</a>'\n",
              "          + ' to learn more about interactive tables.';\n",
              "        element.innerHTML = '';\n",
              "        dataTable['output_type'] = 'display_data';\n",
              "        await google.colab.output.renderOutput(dataTable, element);\n",
              "        const docLink = document.createElement('div');\n",
              "        docLink.innerHTML = docLinkHtml;\n",
              "        element.appendChild(docLink);\n",
              "      }\n",
              "    </script>\n",
              "  </div>\n",
              "\n",
              "\n",
              "<div id=\"df-3295935d-8f13-4db9-8c4b-57a660920b0e\">\n",
              "  <button class=\"colab-df-quickchart\" onclick=\"quickchart('df-3295935d-8f13-4db9-8c4b-57a660920b0e')\"\n",
              "            title=\"Suggest charts\"\n",
              "            style=\"display:none;\">\n",
              "\n",
              "<svg xmlns=\"http://www.w3.org/2000/svg\" height=\"24px\"viewBox=\"0 0 24 24\"\n",
              "     width=\"24px\">\n",
              "    <g>\n",
              "        <path d=\"M19 3H5c-1.1 0-2 .9-2 2v14c0 1.1.9 2 2 2h14c1.1 0 2-.9 2-2V5c0-1.1-.9-2-2-2zM9 17H7v-7h2v7zm4 0h-2V7h2v10zm4 0h-2v-4h2v4z\"/>\n",
              "    </g>\n",
              "</svg>\n",
              "  </button>\n",
              "\n",
              "<style>\n",
              "  .colab-df-quickchart {\n",
              "      --bg-color: #E8F0FE;\n",
              "      --fill-color: #1967D2;\n",
              "      --hover-bg-color: #E2EBFA;\n",
              "      --hover-fill-color: #174EA6;\n",
              "      --disabled-fill-color: #AAA;\n",
              "      --disabled-bg-color: #DDD;\n",
              "  }\n",
              "\n",
              "  [theme=dark] .colab-df-quickchart {\n",
              "      --bg-color: #3B4455;\n",
              "      --fill-color: #D2E3FC;\n",
              "      --hover-bg-color: #434B5C;\n",
              "      --hover-fill-color: #FFFFFF;\n",
              "      --disabled-bg-color: #3B4455;\n",
              "      --disabled-fill-color: #666;\n",
              "  }\n",
              "\n",
              "  .colab-df-quickchart {\n",
              "    background-color: var(--bg-color);\n",
              "    border: none;\n",
              "    border-radius: 50%;\n",
              "    cursor: pointer;\n",
              "    display: none;\n",
              "    fill: var(--fill-color);\n",
              "    height: 32px;\n",
              "    padding: 0;\n",
              "    width: 32px;\n",
              "  }\n",
              "\n",
              "  .colab-df-quickchart:hover {\n",
              "    background-color: var(--hover-bg-color);\n",
              "    box-shadow: 0 1px 2px rgba(60, 64, 67, 0.3), 0 1px 3px 1px rgba(60, 64, 67, 0.15);\n",
              "    fill: var(--button-hover-fill-color);\n",
              "  }\n",
              "\n",
              "  .colab-df-quickchart-complete:disabled,\n",
              "  .colab-df-quickchart-complete:disabled:hover {\n",
              "    background-color: var(--disabled-bg-color);\n",
              "    fill: var(--disabled-fill-color);\n",
              "    box-shadow: none;\n",
              "  }\n",
              "\n",
              "  .colab-df-spinner {\n",
              "    border: 2px solid var(--fill-color);\n",
              "    border-color: transparent;\n",
              "    border-bottom-color: var(--fill-color);\n",
              "    animation:\n",
              "      spin 1s steps(1) infinite;\n",
              "  }\n",
              "\n",
              "  @keyframes spin {\n",
              "    0% {\n",
              "      border-color: transparent;\n",
              "      border-bottom-color: var(--fill-color);\n",
              "      border-left-color: var(--fill-color);\n",
              "    }\n",
              "    20% {\n",
              "      border-color: transparent;\n",
              "      border-left-color: var(--fill-color);\n",
              "      border-top-color: var(--fill-color);\n",
              "    }\n",
              "    30% {\n",
              "      border-color: transparent;\n",
              "      border-left-color: var(--fill-color);\n",
              "      border-top-color: var(--fill-color);\n",
              "      border-right-color: var(--fill-color);\n",
              "    }\n",
              "    40% {\n",
              "      border-color: transparent;\n",
              "      border-right-color: var(--fill-color);\n",
              "      border-top-color: var(--fill-color);\n",
              "    }\n",
              "    60% {\n",
              "      border-color: transparent;\n",
              "      border-right-color: var(--fill-color);\n",
              "    }\n",
              "    80% {\n",
              "      border-color: transparent;\n",
              "      border-right-color: var(--fill-color);\n",
              "      border-bottom-color: var(--fill-color);\n",
              "    }\n",
              "    90% {\n",
              "      border-color: transparent;\n",
              "      border-bottom-color: var(--fill-color);\n",
              "    }\n",
              "  }\n",
              "</style>\n",
              "\n",
              "  <script>\n",
              "    async function quickchart(key) {\n",
              "      const quickchartButtonEl =\n",
              "        document.querySelector('#' + key + ' button');\n",
              "      quickchartButtonEl.disabled = true;  // To prevent multiple clicks.\n",
              "      quickchartButtonEl.classList.add('colab-df-spinner');\n",
              "      try {\n",
              "        const charts = await google.colab.kernel.invokeFunction(\n",
              "            'suggestCharts', [key], {});\n",
              "      } catch (error) {\n",
              "        console.error('Error during call to suggestCharts:', error);\n",
              "      }\n",
              "      quickchartButtonEl.classList.remove('colab-df-spinner');\n",
              "      quickchartButtonEl.classList.add('colab-df-quickchart-complete');\n",
              "    }\n",
              "    (() => {\n",
              "      let quickchartButtonEl =\n",
              "        document.querySelector('#df-3295935d-8f13-4db9-8c4b-57a660920b0e button');\n",
              "      quickchartButtonEl.style.display =\n",
              "        google.colab.kernel.accessAllowed ? 'block' : 'none';\n",
              "    })();\n",
              "  </script>\n",
              "</div>\n",
              "\n",
              "    </div>\n",
              "  </div>\n"
            ],
            "application/vnd.google.colaboratory.intrinsic+json": {
              "type": "dataframe",
              "variable_name": "speeches_201718",
              "summary": "{\n  \"name\": \"speeches_201718\",\n  \"rows\": 12343,\n  \"fields\": [\n    {\n      \"column\": \"id\",\n      \"properties\": {\n        \"dtype\": \"string\",\n        \"num_unique_values\": 12343,\n        \"samples\": [\n          \"H5-045-155\",\n          \"H5-118-101\",\n          \"H5-024-082\"\n        ],\n        \"semantic_type\": \"\",\n        \"description\": \"\"\n      }\n    },\n    {\n      \"column\": \"words\",\n      \"properties\": {\n        \"dtype\": \"string\",\n        \"num_unique_values\": 12343,\n        \"samples\": [\n          \"fru talman vid en diskussion om f\\u00f6rsvarspolitik \\u00e4r det alltid klokt att b\\u00f6rja i s\\u00e4kerhetspolitiken det s\\u00e4kerhetspolitiska l\\u00e4get i v\\u00e5rt n\\u00e4romr\\u00e5de och i v\\u00e5r omv\\u00e4rld \\u00e4r s\\u00e4mre \\u00e4n p\\u00e5 l\\u00e4nge precis som flera f\\u00f6reg\\u00e5ende talare har konstaterat en central s\\u00e4kerhetspolitisk v\\u00e4ndpunkt var den ryska ockupationen av krim och kriget i \\u00f6stra ukraina som visade att ryssland nu \\u00e4r berett att ifr\\u00e5gas\\u00e4tta den regelbaserade v\\u00e4rldsordning som sverige \\u00e4r beroende av och vill st\\u00e5 upp f\\u00f6r politiskt den s\\u00e4kerhetspolitiska os\\u00e4kerheten \\u00f6kar ytterligare med oklarheten kring vilken riktning eu nu kommer att ta i ljuset av brexit och med den amerikanska administrationens oklara signaler och dess antydan om att vilja engagera sig allt mindre i globala fr\\u00e5gor men vi st\\u00e5r ocks\\u00e5 i dag inf\\u00f6r ett s\\u00e4kerhetspolitiskt l\\u00e4ge d\\u00e4r hotbilden \\u00e4r bredare och mer komplex \\u00e4n tidigare gr\\u00e4nsen mellan fred och krig \\u00e4r inte lika tydlig hybridkrigf\\u00f6ring d\\u00e4r konventionella milit\\u00e4ra metoder kompletteras och ers\\u00e4tts med andra \\u00e5tg\\u00e4rder har blivit vanligare det g\\u00e4ller i synnerhet saker som cyberkrigf\\u00f6ring ekonomisk krigf\\u00f6ring och desinformationskampanjer exempelvis politiskt st\\u00f6d till oppositionsgrupper i andra l\\u00e4nder i syfte att skapa interna oroligheter \\u00e4ven om risken f\\u00f6r ett invasionshot mot sverige i dag \\u00e4r l\\u00e5gt m\\u00e5ste vi vara medvetna om att det p\\u00e5g\\u00e5r verksamhet ocks\\u00e5 i sverige fr\\u00e5n andra l\\u00e4nder vad g\\u00e4ller s\\u00e5dant som desinformationskampanjer och spioneri det f\\u00f6rekommer naturligtvis ocks\\u00e5 milit\\u00e4ra anfalls\\u00f6vningar mot sverige och kr\\u00e4nkningar av v\\u00e5rt territorium f\\u00f6rsvar och samh\\u00e4llets krisberedskap ut\\u00f6ver att satsa p\\u00e5 arbete f\\u00f6r att minska s\\u00e5rbarheten i v\\u00e5rt samh\\u00e4lle g\\u00f6r regeringen \\u00e4ven andra riktade investeringar i delar av sverige som \\u00e4r s\\u00e4rskilt utsatta f\\u00f6r klimatf\\u00f6r\\u00e4ndringarna bland annat g\\u00f6rs en s\\u00e4rskild satsning p\\u00e5 klimatanpassningsanslaget f\\u00f6r statlig delfinansiering av \\u00e5tg\\u00e4rder vid skreds\\u00e4kring l\\u00e4ngs g\\u00f6ta \\u00e4lv det bildas en delegation f\\u00f6r g\\u00f6ta \\u00e4lv vid statens geotekniska institut anslaget f\\u00f6r klimatanpassningar \\u00f6kar det blir totalt miljoner kronor f\\u00f6r och miljoner f\\u00f6r \\u00e5ren och fru talman jag inledde med att betona det breda spektrum av utmaningar som totalf\\u00f6rsvaret och krisberedskapen beh\\u00f6ver hantera i dag det \\u00e4r hot som kan vara av b\\u00e5de antagonistisk och karakt\\u00e4r i sverige har vi haft en tradition av att hantera dessa fr\\u00e5gor p\\u00e5 ett ansvarsfullt s\\u00e4tt bortom den blockpolitik som pr\\u00e4glar m\\u00e5nga andra omr\\u00e5den den politik vi bedriver i dag \\u00e4r ett resultat av en bred uppg\\u00f6relse mellan flertalet partier i den h\\u00e4r kammaren det s\\u00e4nder en stark och viktig s\\u00e4kerhetspolitisk signal till omv\\u00e4rlden f\\u00f6re jul kommer f\\u00f6rsvarsberedningens f\\u00f6rsta delbet\\u00e4nkande f\\u00f6r n\\u00e4sta f\\u00f6rsvarsbeslutsperiod jag hoppas och tror att vi \\u00e4ven d\\u00e4r kommer att hitta breda majoriteter f\\u00f6r en politik som bygger ett effektivt f\\u00f6rsvar och som kan hantera det breda spektrum av utmaningar som omv\\u00e4rlden st\\u00e4ller oss inf\\u00f6r\",\n          \"fru talman denna fr\\u00e5ga har m\\u00e5nga dimensioner ytterst handlar det om kvaliteten i v\\u00e4lf\\u00e4rden som m\\u00e5ste garanteras men det handlar ocks\\u00e5 om v\\u00e5ra skattepengar det \\u00e4r stora belopp som rinner ut m\\u00e5nga av dessa bolag g\\u00f6r m\\u00e5ngmiljonvinster det kan till och med vara miljardvinster om man ser till den sammantagna kostnaden d\\u00e5 \\u00e4r det v\\u00e4ldigt viktigt att vi ser till att skattepengarna anv\\u00e4nds till r\\u00e4tt saker kvaliteten i v\\u00e4lf\\u00e4rden \\u00e4r n\\u00e5got av det allra viktigaste s\\u00e5 jag hoppas att det g\\u00e5r bra i omr\\u00f6stningen\",\n          \"fru talman min fr\\u00e5ga g\\u00e5r till statsr\\u00e5det \\u00e5sa regn\\u00e9r i f\\u00f6rra veckan tr\\u00e4ffade jag tv\\u00e5 poliser som arbetar mot prostitution och m\\u00e4nniskohandel deras beskrivning av offrens utsatthet var b\\u00e5de skr\\u00e4mmande och uppr\\u00f6rande poliserna menade att det inte l\\u00e4ngre \\u00e4r bara medel\\u00e5lders m\\u00e4n som \\u00e4r den typiska sexk\\u00f6paren utan att det i dag \\u00e4ven \\u00e4r v\\u00e4ldigt unga killar som k\\u00f6per sex dessutom luras unga m\\u00e4nniskor i sverige in i prostitution genom nya sidor p\\u00e5 n\\u00e4tet prostitution och m\\u00e4nniskohandel \\u00e4r b\\u00e5de en klassfr\\u00e5ga och en j\\u00e4mst\\u00e4lldhetsfr\\u00e5ga de utsatta \\u00e4r framf\\u00f6r allt kvinnor och barn som lever i fattigdom de m\\u00e5ste skyddas men det \\u00e4r m\\u00e4n som k\\u00f6per sex som \\u00e4r det egentliga problemet sexk\\u00f6p \\u00e4r olagligt i sverige d\\u00e4rf\\u00f6r f\\u00e5r det aldrig bli n\\u00e5got som normaliseras mot bakgrund av detta undrar jag vad regeringen t\\u00e4nker g\\u00f6ra i fr\\u00e5gan f\\u00f6r att motverka m\\u00e4ns attityd till sexuella \\u00f6vergrepp och sexk\\u00f6p\"\n        ],\n        \"semantic_type\": \"\",\n        \"description\": \"\"\n      }\n    },\n    {\n      \"column\": \"party\",\n      \"properties\": {\n        \"dtype\": \"category\",\n        \"num_unique_values\": 8,\n        \"samples\": [\n          \"V\",\n          \"C\",\n          \"S\"\n        ],\n        \"semantic_type\": \"\",\n        \"description\": \"\"\n      }\n    }\n  ]\n}"
            }
          },
          "metadata": {},
          "execution_count": 4
        }
      ],
      "source": [
        "speeches_201718.head()"
      ]
    },
    {
      "cell_type": "markdown",
      "metadata": {
        "id": "UmT94tiN03P5"
      },
      "source": [
        "Throughout the lab, we will be using the speeches from **2017/2018** as our **training data**, and the speeches from **2018/2019** as our **test data**."
      ]
    },
    {
      "cell_type": "code",
      "execution_count": 5,
      "metadata": {
        "deletable": false,
        "editable": false,
        "nbgrader": {
          "cell_type": "code",
          "checksum": "e79a1e65d8e7b70c0662a5454e1e68a5",
          "grade": false,
          "grade_id": "cell-d4057991468fe3ef",
          "locked": true,
          "schema_version": 3,
          "solution": false,
          "task": false
        },
        "id": "FY7YEg3x03P5"
      },
      "outputs": [],
      "source": [
        "training_data, test_data = speeches_201718, speeches_201819"
      ]
    },
    {
      "cell_type": "markdown",
      "metadata": {
        "id": "sbGyQxto03P5"
      },
      "source": [
        "For later reference, we store the sorted list of party abbreviations."
      ]
    },
    {
      "cell_type": "code",
      "execution_count": 6,
      "metadata": {
        "id": "--P-x-zO03P5",
        "outputId": "215e598e-6aa0-4e7c-e71c-7ee3fc16cf47",
        "colab": {
          "base_uri": "https://localhost:8080/"
        }
      },
      "outputs": [
        {
          "output_type": "stream",
          "name": "stdout",
          "text": [
            "['C', 'KD', 'L', 'M', 'MP', 'S', 'SD', 'V']\n"
          ]
        }
      ],
      "source": [
        "parties = sorted(training_data['party'].unique())\n",
        "print(parties)"
      ]
    },
    {
      "cell_type": "markdown",
      "metadata": {
        "id": "KuojX9T-03P5"
      },
      "source": [
        "## Problem 1: Data visualization"
      ]
    },
    {
      "cell_type": "markdown",
      "metadata": {
        "id": "whB_s6oY03P5"
      },
      "source": [
        "Let’s start by getting to know the data better by producing a simple visualization.  More specifically, we ask you to compare the two data frames with respect to the distribution of the speeches over the different parties.\n",
        "\n",
        "_(If you are not familiar with the Swedish political system and the parties represented in the Riksdag in particular, then we suggest that you have a look at the Wikipedia article about the [2018 Swedish general election](https://en.wikipedia.org/wiki/2018_Swedish_general_election), but it’s not required for solving this lab.  Neither is knowing Swedish!)_\n",
        "\n",
        "Your task is to **write code to generate two bar plots** that visualize the party distribution, one for the 2017/2018 speeches and one for the 2018/2019 speeches. Inspect the two plots, and compare them\n",
        "\n",
        "* to each other; and\n",
        "* to the results of the 2014 and the 2018 general elections.\n",
        "\n",
        "To facilitate the comparison, you should plot the parties in descending order of their total number of speeches.\n",
        "\n",
        "**_Note:_** You can produce the bar plots in any way you like (e.g. with Matplotlib, Seaborn, or directly with Pandas); if you don’t know where to start, one suggestion is to look at [seaborn’s tutorial for “visualizing categorical data”](https://seaborn.pydata.org/tutorial/categorical.html), specifically the parts about making _count_ plots."
      ]
    },
    {
      "cell_type": "code",
      "execution_count": 7,
      "metadata": {
        "id": "0DZUJLt503P5"
      },
      "outputs": [],
      "source": [
        "# Importing seaborn style — usually a good choice by default\n",
        "import seaborn as sns\n",
        "sns.set()"
      ]
    },
    {
      "cell_type": "code",
      "execution_count": 23,
      "metadata": {
        "deletable": false,
        "nbgrader": {
          "cell_type": "code",
          "checksum": "b52acc4f999f4811ad112c473dc61b07",
          "grade": true,
          "grade_id": "cell-435dbe643962a0e1",
          "locked": false,
          "points": 1,
          "schema_version": 3,
          "solution": true,
          "task": false
        },
        "tags": [
          "solution"
        ],
        "id": "pLPqKXME03P5",
        "outputId": "23922513-bde8-47b5-ab8f-9bf499fc7506",
        "colab": {
          "base_uri": "https://localhost:8080/",
          "height": 540
        }
      },
      "outputs": [
        {
          "output_type": "execute_result",
          "data": {
            "text/plain": [
              "<seaborn.axisgrid.FacetGrid at 0x7ed67383bf70>"
            ]
          },
          "metadata": {},
          "execution_count": 23
        },
        {
          "output_type": "display_data",
          "data": {
            "text/plain": [
              "<Figure size 512.222x500 with 1 Axes>"
            ],
            "image/png": "[encoded data removed]"
          },
          "metadata": {}
        }
      ],
      "source": [
        "\"\"\"Produce a plot for the 2017/2018 speeches.\"\"\"\n",
        "\n",
        "party_counts = training_data[\"party\"].value_counts()\n",
        "g = sns.catplot(data=training_data, x=\"party\", kind=\"count\", order=party_counts.index)\n",
        "g.set(title = \"2017/2018 speeches\")\n",
        "\n"
      ]
    },
    {
      "cell_type": "code",
      "execution_count": 27,
      "metadata": {
        "deletable": false,
        "nbgrader": {
          "cell_type": "code",
          "checksum": "70818efe11a780503408efbca9e43c89",
          "grade": true,
          "grade_id": "cell-8b8855796909494a",
          "locked": false,
          "points": 1,
          "schema_version": 3,
          "solution": true,
          "task": false
        },
        "tags": [
          "solution"
        ],
        "id": "UtUmz9ch03P5",
        "outputId": "1459fb7e-30cc-4505-b3e0-b1e88d1aafe1",
        "colab": {
          "base_uri": "https://localhost:8080/",
          "height": 540
        }
      },
      "outputs": [
        {
          "output_type": "execute_result",
          "data": {
            "text/plain": [
              "<seaborn.axisgrid.FacetGrid at 0x7ed66fa6a1a0>"
            ]
          },
          "metadata": {},
          "execution_count": 27
        },
        {
          "output_type": "display_data",
          "data": {
            "text/plain": [
              "<Figure size 512.222x500 with 1 Axes>"
            ],
            "image/png": "[encoded data removed]"
          },
          "metadata": {}
        }
      ],
      "source": [
        "\"\"\"Produce a plot for the 2018/2019 speeches.\"\"\"\n",
        "\n",
        "party_counts = test_data['party'].value_counts()\n",
        "g = sns.catplot(data=test_data, x=\"party\", kind=\"count\", order=party_counts.index)\n",
        "g.set(title = \"2018/2019 speeches\")\n"
      ]
    },
    {
      "cell_type": "markdown",
      "metadata": {
        "editable": true,
        "tags": [],
        "id": "KDrshy5Y03P6"
      },
      "source": [
        "After you made the plots, **summarize your observations** very briefly in the cell below!"
      ]
    },
    {
      "cell_type": "markdown",
      "metadata": {
        "deletable": false,
        "nbgrader": {
          "cell_type": "markdown",
          "checksum": "c6e2646f15ce9856a929ffb804c604e9",
          "grade": true,
          "grade_id": "cell-f17b6c18a5f3684c",
          "locked": false,
          "points": 1,
          "schema_version": 3,
          "solution": true,
          "task": false
        },
        "id": "s9HYxYd803P6"
      },
      "source": [
        "In both training and test \"S\" are the most frequent speakers by a large margin and \"M\" are the second most frequent speakers. However there are some differences, for example \"MP\" are the third most frequent speakers in training but sixth most frequent speakers in test. The uneven party frequencies can cause problems when classifying."
      ]
    },
    {
      "cell_type": "markdown",
      "metadata": {
        "id": "gj_CoTbe03P6"
      },
      "source": [
        "## Problem 2: Naive Bayes classifier"
      ]
    },
    {
      "cell_type": "markdown",
      "metadata": {
        "id": "NwzY6k8q03P6"
      },
      "source": [
        "You are now ready to train and evaluate a classifier. More specifically, we ask you to train a [Multinomial Naive Bayes](https://scikit-learn.org/stable/modules/naive_bayes.html#multinomial-naive-bayes) classifier. You will have to\n",
        "\n",
        "1. vectorize the speeches in the training data _(with simple token counts)_\n",
        "2. instantiate and fit the Naive Bayes model on the training data\n",
        "3. evaluate the model on the test data\n",
        "\n",
        "You can use any approach you like, but a suggestion is to use scikit-learn’s convenience [Pipeline class](https://scikit-learn.org/stable/modules/generated/sklearn.pipeline.Pipeline.html) that allows you to solve the first two tasks with very compact code. For the evaluation you can use the function [classification_report()](https://scikit-learn.org/stable/modules/generated/sklearn.metrics.classification_report.html), which will report per-class precision, recall and F1, as well as overall accuracy.\n",
        "\n",
        "**Write code to produce a Multinomial Naive Bayes classifier as described above and report its performance on the test data!**"
      ]
    },
    {
      "cell_type": "code",
      "execution_count": 45,
      "metadata": {
        "deletable": false,
        "nbgrader": {
          "cell_type": "code",
          "checksum": "76cea169d2a834695abe2643fce1f538",
          "grade": true,
          "grade_id": "cell-b311b60eb7e5a413",
          "locked": false,
          "points": 1,
          "schema_version": 3,
          "solution": true,
          "task": false
        },
        "tags": [
          "solution"
        ],
        "id": "7cAoFIYF03P6"
      },
      "outputs": [],
      "source": [
        "from sklearn.feature_extraction.text import TfidfVectorizer\n",
        "from sklearn.naive_bayes import MultinomialNB\n",
        "from sklearn.metrics import classification_report\n",
        "import numpy as np\n",
        "\n",
        "# 1. Vectorize\n",
        "vectorizer = TfidfVectorizer()\n",
        "X_train = vectorizer.fit_transform(training_data['words'])\n",
        "X_test = vectorizer.transform(test_data['words'])\n",
        "\n",
        "# 2. Naive Bayes\n",
        "mnb = MultinomialNB()\n",
        "y_fit = mnb.fit(X_train, training_data['party'])\n"
      ]
    },
    {
      "cell_type": "code",
      "source": [
        "y_pred = y_fit.predict(X_test)\n",
        "print(classification_report(test_data['party'], y_pred, zero_division=0))"
      ],
      "metadata": {
        "id": "vc53Dlxd7eiq",
        "outputId": "b5ab7cb3-8ce2-4389-9bd8-10398aba9d4f",
        "colab": {
          "base_uri": "https://localhost:8080/"
        }
      },
      "execution_count": 53,
      "outputs": [
        {
          "output_type": "stream",
          "name": "stdout",
          "text": [
            "              precision    recall  f1-score   support\n",
            "\n",
            "           C       0.00      0.00      0.00       671\n",
            "          KD       0.00      0.00      0.00       821\n",
            "           L       0.00      0.00      0.00       560\n",
            "           M       0.50      0.00      0.00      1644\n",
            "          MP       0.00      0.00      0.00       809\n",
            "           S       0.30      1.00      0.46      2773\n",
            "          SD       0.00      0.00      0.00      1060\n",
            "           V       0.00      0.00      0.00       950\n",
            "\n",
            "    accuracy                           0.30      9288\n",
            "   macro avg       0.10      0.13      0.06      9288\n",
            "weighted avg       0.18      0.30      0.14      9288\n",
            "\n"
          ]
        }
      ]
    },
    {
      "cell_type": "markdown",
      "metadata": {
        "id": "K3pL8vng03P6"
      },
      "source": [
        "Would you have expected the results that you got? (No need to write anything about this just yet, but make sure you understand what the values in the report mean.)"
      ]
    },
    {
      "cell_type": "markdown",
      "metadata": {
        "id": "Am4FUuUN03P6"
      },
      "source": [
        "## Problem 3: Baselines"
      ]
    },
    {
      "cell_type": "markdown",
      "metadata": {
        "id": "jQU7rN4w03P6"
      },
      "source": [
        "Evaluation metrics such as accuracy or F1-score should not be understood as _absolute_ measures of performance, but should be used only to _compare_ different classifiers. When other classifiers are not available, there are some simple baselines we can use that are implemented by scikit-learn’s [DummyClassifier](https://scikit-learn.org/stable/modules/generated/sklearn.dummy.DummyClassifier.html).\n",
        "\n",
        "One of the simplest baseline is to predict, for every document, that class which appears most often in the training data. This baseline is also called the _most frequent class_ baseline.\n",
        "\n",
        "**Write code to fit the most-frequent-class baseline on the training data and report its performance on the test data!**"
      ]
    },
    {
      "cell_type": "code",
      "execution_count": 55,
      "metadata": {
        "deletable": false,
        "nbgrader": {
          "cell_type": "code",
          "checksum": "e61c3fc37d9f653081e9b0fcff3e4106",
          "grade": true,
          "grade_id": "cell-d487ca84ccab29cd",
          "locked": false,
          "points": 1,
          "schema_version": 3,
          "solution": true,
          "task": false
        },
        "tags": [
          "solution"
        ],
        "id": "RD349R3903P6",
        "outputId": "d70eb030-6ba6-4833-bd93-1dceed66ae22",
        "colab": {
          "base_uri": "https://localhost:8080/"
        }
      },
      "outputs": [
        {
          "output_type": "stream",
          "name": "stdout",
          "text": [
            "              precision    recall  f1-score   support\n",
            "\n",
            "           C       0.00      0.00      0.00       671\n",
            "          KD       0.00      0.00      0.00       821\n",
            "           L       0.00      0.00      0.00       560\n",
            "           M       0.00      0.00      0.00      1644\n",
            "          MP       0.00      0.00      0.00       809\n",
            "           S       0.30      1.00      0.46      2773\n",
            "          SD       0.00      0.00      0.00      1060\n",
            "           V       0.00      0.00      0.00       950\n",
            "\n",
            "    accuracy                           0.30      9288\n",
            "   macro avg       0.04      0.12      0.06      9288\n",
            "weighted avg       0.09      0.30      0.14      9288\n",
            "\n"
          ]
        }
      ],
      "source": [
        "from sklearn.dummy import DummyClassifier\n",
        "dummy_clf = DummyClassifier(strategy=\"most_frequent\")\n",
        "y_fit = dummy_clf.fit(X_train, training_data['party'])\n",
        "\n",
        "y_pred = y_fit.predict(X_test)\n",
        "print(classification_report(test_data['party'], y_pred, zero_division=0))"
      ]
    },
    {
      "cell_type": "markdown",
      "metadata": {
        "id": "Etrlc4Wu03P6"
      },
      "source": [
        "A slightly more interesting baseline is a classifier that generates predictions by random sampling, while respecting the training set’s class distribution.  This way of random sampling is sometimes called _stratified sampling_.\n",
        "\n",
        "**Write code to fit the random sampling baseline on the training data and report its performance on the test data!**"
      ]
    },
    {
      "cell_type": "code",
      "execution_count": 56,
      "metadata": {
        "deletable": false,
        "nbgrader": {
          "cell_type": "code",
          "checksum": "af93eece5180010d1c22e6a18fd27c58",
          "grade": true,
          "grade_id": "cell-b24fc752be5cfcea",
          "locked": false,
          "points": 1,
          "schema_version": 3,
          "solution": true,
          "task": false
        },
        "tags": [
          "solution"
        ],
        "id": "h3Lf1uCn03P6",
        "outputId": "81c1bbdb-89cb-478b-e613-b826962a33f3",
        "colab": {
          "base_uri": "https://localhost:8080/"
        }
      },
      "outputs": [
        {
          "output_type": "stream",
          "name": "stdout",
          "text": [
            "              precision    recall  f1-score   support\n",
            "\n",
            "           C       0.07      0.11      0.08       671\n",
            "          KD       0.09      0.14      0.11       821\n",
            "           L       0.06      0.13      0.08       560\n",
            "           M       0.17      0.13      0.15      1644\n",
            "          MP       0.09      0.12      0.10       809\n",
            "           S       0.31      0.13      0.18      2773\n",
            "          SD       0.10      0.11      0.11      1060\n",
            "           V       0.11      0.13      0.12       950\n",
            "\n",
            "    accuracy                           0.12      9288\n",
            "   macro avg       0.12      0.12      0.12      9288\n",
            "weighted avg       0.17      0.12      0.13      9288\n",
            "\n"
          ]
        }
      ],
      "source": [
        "# YOUR CODE HERE\n",
        "dummy_clf = DummyClassifier(strategy=\"uniform\")\n",
        "y_fit = dummy_clf.fit(X_train, training_data['party'])\n",
        "\n",
        "y_pred = y_fit.predict(X_test)\n",
        "print(classification_report(test_data['party'], y_pred, zero_division=0))"
      ]
    },
    {
      "cell_type": "markdown",
      "metadata": {
        "id": "qPGtNN-_03P6"
      },
      "source": [
        "## Problem 4: Creating a balanced data set"
      ]
    },
    {
      "cell_type": "markdown",
      "metadata": {
        "id": "SfLY71ZO03P6"
      },
      "source": [
        "As you saw in Problem&nbsp;1, the distribution of the speeches over the eight different parties (classes) is imbalanced. One technique used to alleviate this is **undersampling**, in which one randomly removes samples from over-represented classes until all classes are represented with the same number of samples.\n",
        "\n",
        "Your task here is to **implement undersampling to create a balanced subset of the training data**. Afterwards, **rerun the evaluation** from Problem&nbsp;2 on the balanced data and compare the results.\n",
        "\n",
        "**_Hint:_** Your balanced subset should consist of 5,752 speeches."
      ]
    },
    {
      "cell_type": "code",
      "execution_count": 78,
      "metadata": {
        "deletable": false,
        "nbgrader": {
          "cell_type": "code",
          "checksum": "12b02ac4a208566cfcba76b45948f97d",
          "grade": true,
          "grade_id": "cell-745500aace13dd25",
          "locked": false,
          "points": 1,
          "schema_version": 3,
          "solution": true,
          "task": false
        },
        "tags": [
          "solution"
        ],
        "id": "4HZAqAJT03P6",
        "outputId": "8d86b027-dd79-4838-abfe-fe87599b56c9",
        "colab": {
          "base_uri": "https://localhost:8080/",
          "height": 366
        }
      },
      "outputs": [
        {
          "output_type": "execute_result",
          "data": {
            "text/plain": [
              "party\n",
              "C     719\n",
              "KD    719\n",
              "L     719\n",
              "M     719\n",
              "MP    719\n",
              "S     719\n",
              "SD    719\n",
              "V     719\n",
              "Name: count, dtype: int64"
            ],
            "text/html": [
              "<div>\n",
              "<style scoped>\n",
              "    .dataframe tbody tr th:only-of-type {\n",
              "        vertical-align: middle;\n",
              "    }\n",
              "\n",
              "    .dataframe tbody tr th {\n",
              "        vertical-align: top;\n",
              "    }\n",
              "\n",
              "    .dataframe thead th {\n",
              "        text-align: right;\n",
              "    }\n",
              "</style>\n",
              "<table border=\"1\" class=\"dataframe\">\n",
              "  <thead>\n",
              "    <tr style=\"text-align: right;\">\n",
              "      <th></th>\n",
              "      <th>count</th>\n",
              "    </tr>\n",
              "    <tr>\n",
              "      <th>party</th>\n",
              "      <th></th>\n",
              "    </tr>\n",
              "  </thead>\n",
              "  <tbody>\n",
              "    <tr>\n",
              "      <th>C</th>\n",
              "      <td>719</td>\n",
              "    </tr>\n",
              "    <tr>\n",
              "      <th>KD</th>\n",
              "      <td>719</td>\n",
              "    </tr>\n",
              "    <tr>\n",
              "      <th>L</th>\n",
              "      <td>719</td>\n",
              "    </tr>\n",
              "    <tr>\n",
              "      <th>M</th>\n",
              "      <td>719</td>\n",
              "    </tr>\n",
              "    <tr>\n",
              "      <th>MP</th>\n",
              "      <td>719</td>\n",
              "    </tr>\n",
              "    <tr>\n",
              "      <th>S</th>\n",
              "      <td>719</td>\n",
              "    </tr>\n",
              "    <tr>\n",
              "      <th>SD</th>\n",
              "      <td>719</td>\n",
              "    </tr>\n",
              "    <tr>\n",
              "      <th>V</th>\n",
              "      <td>719</td>\n",
              "    </tr>\n",
              "  </tbody>\n",
              "</table>\n",
              "</div><br><label><b>dtype:</b> int64</label>"
            ]
          },
          "metadata": {},
          "execution_count": 78
        }
      ],
      "source": [
        "\"\"\"Implement undersampling with the classifier from Problem 2 and report its performance on the test data.\"\"\"\n",
        "\n",
        "# YOUR CODE HERE\n",
        "min_n = training_data[\"party\"].value_counts().min()\n",
        "\n",
        "all_n = training_data[\"party\"].value_counts()\n",
        "strat_train = []\n",
        "\n",
        "for party in parties:\n",
        "  part = training_data[training_data[\"party\"] == party]\n",
        "  part = part.sample(n=min_n)\n",
        "  strat_train.append(part)\n",
        "\n",
        "# adding colnames\n",
        "strat_train = pd.concat(strat_train)\n",
        "strat_train.columns = training_data.columns\n",
        "strat_train[\"party\"].value_counts()"
      ]
    },
    {
      "cell_type": "markdown",
      "metadata": {
        "id": "smBvKQPi03P6"
      },
      "source": [
        "## Problem 5: Confusion matrix"
      ]
    },
    {
      "cell_type": "markdown",
      "metadata": {
        "id": "Paquu1WG03P6"
      },
      "source": [
        "A _confusion matrix_ is a type of table that is useful when analysing the performance of a classifier. In this table, both the rows and the columns correspond to classes, and each cell $(i, j)$ states how many times a sample with _gold-standard_ class $i$ was _predicted_ as belonging to class $j$.\n",
        "\n",
        "In scitkit-learn, a simple way to visualize the confusion matrix as a _heatmap_ is to use [ConfusionMatrixDisplay](https://scikit-learn.org/stable/modules/generated/sklearn.metrics.ConfusionMatrixDisplay.html).  The following cell demonstrates how to compute and display a confusion matrix for the classifier in the `model` variable — you may have to adjust this based on the code you have written for your previous solutions:"
      ]
    },
    {
      "cell_type": "code",
      "execution_count": null,
      "metadata": {
        "tags": [
          "solution"
        ],
        "id": "HqRd-9Vy03P6"
      },
      "outputs": [],
      "source": [
        "from sklearn.metrics import ConfusionMatrixDisplay\n",
        "\n",
        "with sns.axes_style(\"white\"):  # Seaborn’s default style doesn’t play well with ConfusionMatrixDisplay, so we change it temporarily\n",
        "    ConfusionMatrixDisplay.from_estimator(\n",
        "        model,                 # The model that you want to plot the confusion matrix for\n",
        "        test_data['words'],    # The input data for the model\n",
        "        test_data['party'],    # The correct (gold-standard) labels for the input data\n",
        "        normalize='true',\n",
        "        values_format='.2f'\n",
        "    )"
      ]
    },
    {
      "cell_type": "markdown",
      "metadata": {
        "id": "G6oIaL7y03P7"
      },
      "source": [
        "**Your task** is to use the confusion matrix in order to find, for each given party $p$ in the Riksdag, that other party $p'$ which the classifier that you trained in Problem&nbsp;4 most often confuses with $p$ when it predicts the party of a speaker.  You can read this off of the visualization above, but for the purposes of this exercise, we want to do this programmatically (i.e. with code).  For this, you most likely want to use the scikit-learn function [confusion_matrix()](https://scikit-learn.org/stable/modules/generated/sklearn.metrics.confusion_matrix.html), which gives you the confusion matrix of a classifier.\n",
        "\n",
        "**Write code that, for each party $p$, print the party most often confused with $p$ by the classifier from Problem 4!**"
      ]
    },
    {
      "cell_type": "code",
      "execution_count": null,
      "metadata": {
        "deletable": false,
        "nbgrader": {
          "cell_type": "code",
          "checksum": "9cd82f4488fd2d66933c6bbdfe1179e3",
          "grade": true,
          "grade_id": "cell-200a41c181d159a3",
          "locked": false,
          "points": 1,
          "schema_version": 3,
          "solution": true,
          "task": false
        },
        "id": "otLG6R4h03P7"
      },
      "outputs": [],
      "source": [
        "# YOUR CODE HERE\n",
        "raise NotImplementedError()"
      ]
    },
    {
      "cell_type": "markdown",
      "metadata": {
        "id": "o7xmtcf003P7"
      },
      "source": [
        "Before you move on, take a minute to reflect on whether your results make sense."
      ]
    },
    {
      "cell_type": "markdown",
      "metadata": {
        "id": "j9kfstaF03P7"
      },
      "source": [
        "## Problem 6: Grid Search"
      ]
    },
    {
      "cell_type": "markdown",
      "metadata": {
        "id": "qWxjdMYU03P-"
      },
      "source": [
        "Until now, you have been using the count-based vectorizer and the Naive Bayes classifier with their default hyperparameters. When working with real-world applications, you would want to find a combination of input representation, model, and hyperparameters that maximizes the performance for the task at hand.\n",
        "\n",
        "Manually trying out many combinations of hyperparameters of a vectorizer–classifier pipeline can be cumbersome. However, scikit-learn provides functionality for [performing **grid search**](https://scikit-learn.org/stable/modules/grid_search.html), which is the name for an exhaustive search for the best hyperparameters over a _grid_ of possible values.\n",
        "\n",
        "When searching for the best hyperparameters, it’s important to _not_ run evaluations on the final test set.  Instead, one should either use a separate validation set, or run cross-validation over different folds. Here we will use cross-validation, which scikit-learn provides in the [GridSearchCV](https://scikit-learn.org/stable/modules/generated/sklearn.model_selection.GridSearchCV.html) class.  To use grid search, you need to know which parameters can be tuned and what they’re called; you can find this information by calling `get_params()` on your model pipeline:"
      ]
    },
    {
      "cell_type": "code",
      "execution_count": null,
      "metadata": {
        "id": "eeDR29Hq03P-"
      },
      "outputs": [],
      "source": [
        "# Replace \"nb_pipe\" with the variable that has your model pipeline, if necessary\n",
        "nb_pipe.get_params()"
      ]
    },
    {
      "cell_type": "markdown",
      "metadata": {
        "id": "k8b9ppIC03P-"
      },
      "source": [
        "Your task is to **find a pipeline that outperforms the model from Problem&nbsp;4** on _at least one_ of the aggregated evaluation metrics (accuracy, macro avg., or weighted avg. scores) on the test set, by performing **grid search with 5-fold cross-validation** on the training set.  Which hyperparameters you tune and what values you choose is up to you, as long as try at least _two different hyperparameters_ with at least _two different values_ each, and your resulting pipelines outperforms the one from Problem&nbsp;4.  However, here are some suggestions:\n",
        "\n",
        "* In the vectorizer, you could try a _set-of-words_ (binary) model in addition to the default _bag-of-words_ model.\n",
        "* In the vectorizer, you could try extracting bigrams and/or trigrams in addition to unigrams.\n",
        "* In the Naive Bayes classifier, you could try to using different values for additive smoothing.\n",
        "\n",
        "**Write code to perform grid search, then report the results of your best model, along with the parameter values that yielded these results.**"
      ]
    },
    {
      "cell_type": "code",
      "execution_count": null,
      "metadata": {
        "deletable": false,
        "nbgrader": {
          "cell_type": "code",
          "checksum": "2fec6c6f6c8f459b01e145223c705f3a",
          "grade": true,
          "grade_id": "cell-fc4a0a81ba69cbf7",
          "locked": false,
          "points": 1,
          "schema_version": 3,
          "solution": true,
          "task": false
        },
        "tags": [
          "solution"
        ],
        "id": "AWdQn9Zn03P-"
      },
      "outputs": [],
      "source": [
        "# YOUR CODE HERE\n",
        "raise NotImplementedError()"
      ]
    },
    {
      "cell_type": "markdown",
      "metadata": {
        "id": "fOVbYwuW03P-"
      },
      "source": [
        "## Individual reflection\n",
        "\n",
        "<div class=\"alert alert-info\">\n",
        "    <strong>After you have solved the lab,</strong> write a <em>brief</em> reflection (max. one A4 page) on the question(s) below.  Remember:\n",
        "    <ul>\n",
        "        <li>You are encouraged to discuss this part with your lab partner, but you should each write up your reflection <strong>individually</strong>.</li>\n",
        "        <li><strong>Do not put your answers in the notebook</strong>; upload them in the separate submission opportunity for the reflections on Lisam.</li>\n",
        "    </ul>\n",
        "</div>"
      ]
    },
    {
      "cell_type": "markdown",
      "metadata": {
        "id": "_w4aVVNT03P-"
      },
      "source": [
        "In this lab, you have produced evaluation reports for a total of five classifiers:\n",
        "\n",
        "- two baselines (most frequent class & random sampling)\n",
        "- Naive Bayes with default values and unbalanced data\n",
        "- Naive Bayes with default values and undersampled data\n",
        "- the best-performing pipeline from your grid search\n",
        "\n",
        "How do you interpret these evaluation reports, i.e., what do they mean for the usefulness of each classifier? What conclusion do you draw from these results? Refer to specific evaluation scores that you find particularly relevant for your argument."
      ]
    },
    {
      "cell_type": "markdown",
      "metadata": {
        "id": "125ccdbd-4375-4d2f-8b1d-f47097ef2e84"
      },
      "source": [
        "**Congratulations on finishing this lab! 👍**\n",
        "\n",
        "<div class=\"alert alert-info\">\n",
        "    \n",
        "➡️ Before you submit, **make sure the notebook can be run from start to finish** without errors.  For this, _restart the kernel_ and _run all cells_ from top to bottom. In Jupyter Notebook version 7 or higher, you can do this via \"Run$\\rightarrow$Restart Kernel and Run All Cells...\" in the menu (or the \"⏩\" button in the toolbar).\n",
        "\n",
        "</div>"
      ]
    },
    {
      "cell_type": "code",
      "execution_count": null,
      "metadata": {
        "id": "f3ad192d-7557-4cd9-9ead-6699b8de9114"
      },
      "outputs": [],
      "source": []
    }
  ],
  "metadata": {
    "kernelspec": {
      "display_name": "Python 3 (ipykernel)",
      "language": "python",
      "name": "python3"
    },
    "language_info": {
      "codemirror_mode": {
        "name": "ipython",
        "version": 3
      },
      "file_extension": ".py",
      "mimetype": "text/x-python",
      "name": "python",
      "nbconvert_exporter": "python",
      "pygments_lexer": "ipython3",
      "version": "3.12.7"
    },
    "colab": {
      "provenance": [],
      "include_colab_link": true
    }
  },
  "nbformat": 4,
  "nbformat_minor": 0
}